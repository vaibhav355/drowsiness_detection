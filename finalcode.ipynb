{
 "cells": [
  {
   "cell_type": "code",
   "execution_count": 3,
   "metadata": {},
   "outputs": [],
   "source": [
    "import os\n",
    "import cv2\n",
    "import numpy as np\n",
    "import tensorflow as tf\n",
    "from tensorflow import keras\n",
    "from keras.models import Sequential\n",
    "from keras.layers import Conv2D, MaxPooling2D, Flatten, Dense\n",
    "from keras.applications import VGG19\n",
    "from keras.optimizers import Adam\n",
    "from keras.preprocessing.image import ImageDataGenerator\n"
   ]
  },
  {
   "cell_type": "code",
   "execution_count": 8,
   "metadata": {},
   "outputs": [],
   "source": [
    "dataset_dir = \"train\"\n",
    "open_eye_images = []\n",
    "closed_eye_images = []"
   ]
  },
  {
   "cell_type": "code",
   "execution_count": 9,
   "metadata": {},
   "outputs": [
    {
     "ename": "TypeError",
     "evalue": "join() argument must be str, bytes, or os.PathLike object, not 'int'",
     "output_type": "error",
     "traceback": [
      "\u001b[1;31m---------------------------------------------------------------------------\u001b[0m",
      "\u001b[1;31mTypeError\u001b[0m                                 Traceback (most recent call last)",
      "\u001b[1;32mf:\\FINAL YEAR PROJECT\\p1.ipynb Cell 3\u001b[0m line \u001b[0;36m1\n\u001b[0;32m     <a href='vscode-notebook-cell:/f%3A/FINAL%20YEAR%20PROJECT/p1.ipynb#W3sZmlsZQ%3D%3D?line=9'>10</a>\u001b[0m         \u001b[39mprint\u001b[39m(\u001b[39mf\u001b[39m\u001b[39m\"\u001b[39m\u001b[39mFailed to load image: \u001b[39m\u001b[39m{\u001b[39;00mimage_filename\u001b[39m}\u001b[39;00m\u001b[39m\"\u001b[39m)\n\u001b[0;32m     <a href='vscode-notebook-cell:/f%3A/FINAL%20YEAR%20PROJECT/p1.ipynb#W3sZmlsZQ%3D%3D?line=10'>11</a>\u001b[0m \u001b[39melif\u001b[39;00m image_filename\u001b[39m.\u001b[39mstartswith(\u001b[39m\"\u001b[39m\u001b[39mClosed\u001b[39m\u001b[39m\"\u001b[39m):\n\u001b[0;32m     <a href='vscode-notebook-cell:/f%3A/FINAL%20YEAR%20PROJECT/p1.ipynb#W3sZmlsZQ%3D%3D?line=11'>12</a>\u001b[0m     \u001b[39m# Load the image and preprocess it.\u001b[39;00m\n\u001b[1;32m---> <a href='vscode-notebook-cell:/f%3A/FINAL%20YEAR%20PROJECT/p1.ipynb#W3sZmlsZQ%3D%3D?line=12'>13</a>\u001b[0m     image \u001b[39m=\u001b[39m cv2\u001b[39m.\u001b[39mimread(os\u001b[39m.\u001b[39;49mpath\u001b[39m.\u001b[39;49mjoin(dataset_dir, image_filename, cv2\u001b[39m.\u001b[39;49mIMREAD_GRAYSCALE))\n\u001b[0;32m     <a href='vscode-notebook-cell:/f%3A/FINAL%20YEAR%20PROJECT/p1.ipynb#W3sZmlsZQ%3D%3D?line=13'>14</a>\u001b[0m     \u001b[39mif\u001b[39;00m image \u001b[39mis\u001b[39;00m \u001b[39mnot\u001b[39;00m \u001b[39mNone\u001b[39;00m:  \u001b[39m# Check if the image was loaded successfully.\u001b[39;00m\n\u001b[0;32m     <a href='vscode-notebook-cell:/f%3A/FINAL%20YEAR%20PROJECT/p1.ipynb#W3sZmlsZQ%3D%3D?line=14'>15</a>\u001b[0m         image \u001b[39m=\u001b[39m cv2\u001b[39m.\u001b[39mresize(image, (\u001b[39m224\u001b[39m, \u001b[39m224\u001b[39m))\n",
      "File \u001b[1;32m<frozen ntpath>:147\u001b[0m, in \u001b[0;36mjoin\u001b[1;34m(path, *paths)\u001b[0m\n",
      "File \u001b[1;32m<frozen genericpath>:152\u001b[0m, in \u001b[0;36m_check_arg_types\u001b[1;34m(funcname, *args)\u001b[0m\n",
      "\u001b[1;31mTypeError\u001b[0m: join() argument must be str, bytes, or os.PathLike object, not 'int'"
     ]
    }
   ],
   "source": [
    "for image_filename in os.listdir(dataset_dir):\n",
    "    if image_filename.startswith(\"Open\"):\n",
    "        # Load the image and preprocess it.\n",
    "        image = cv2.imread(os.path.join(dataset_dir, image_filename, cv2.IMREAD_GRAYSCALE))\n",
    "        if image is not None:  # Check if the image was loaded successfully.\n",
    "            image = cv2.resize(image, (224, 224))  # Resize to the desired input size.\n",
    "            image = image / 255.0  # Normalize the pixel values to [0, 1].\n",
    "            open_eye_images.append(image)\n",
    "        else:\n",
    "            print(f\"Failed to load image: {image_filename}\")\n",
    "    elif image_filename.startswith(\"Closed\"):\n",
    "        # Load the image and preprocess it.\n",
    "        image = cv2.imread(os.path.join(dataset_dir, image_filename, cv2.IMREAD_GRAYSCALE))\n",
    "        if image is not None:  # Check if the image was loaded successfully.\n",
    "            image = cv2.resize(image, (224, 224))\n",
    "            image = image / 255.0\n",
    "            closed_eye_images.append(image)\n",
    "        else:\n",
    "            print(f\"Failed to load image: {image_filename}\")"
   ]
  },
  {
   "cell_type": "code",
   "execution_count": null,
   "metadata": {},
   "outputs": [],
   "source": [
    "open_eye_data = np.array(open_eye_images)\n",
    "closed_eye_data = np.array(closed_eye_images)\n",
    "\n",
    "\n",
    "open_eye_labels = np.ones(open_eye_data.shape[0])\n",
    "closed_eye_labels = np.zeros(closed_eye_data.shape[0])\n",
    "\n",
    "\n",
    "data = np.vstack((open_eye_data, closed_eye_data))\n",
    "labels = np.concatenate((open_eye_labels, closed_eye_labels))\n",
    "\n",
    "indices = np.arange(data.shape[0])\n",
    "np.random.shuffle(indices)\n",
    "data = data[indices]\n",
    "labels = labels[indices]"
   ]
  },
  {
   "cell_type": "code",
   "execution_count": null,
   "metadata": {},
   "outputs": [],
   "source": [
    "def build_drowsiness_detection_model(input_shape):\n",
    "    base_model = VGG19(weights='imagenet', include_top=False, input_shape=input_shape)\n",
    "    \n",
    "    model = Sequential()\n",
    "    model.add(base_model)\n",
    "    model.add(Flatten())\n",
    "    model.add(Dense(256, activation='relu'))\n",
    "    model.add(Dense(1, activation='sigmoid'))\n",
    "    \n",
    "    return model"
   ]
  },
  {
   "cell_type": "code",
   "execution_count": null,
   "metadata": {},
   "outputs": [],
   "source": [
    "datagen = ImageDataGenerator(\n",
    "    rotation_range=20,     # Randomly rotate the images by up to 20 degrees.\n",
    "    width_shift_range=0.2, # Randomly shift the width of the images.\n",
    "    height_shift_range=0.2,# Randomly shift the height of the images.\n",
    "    shear_range=0.2,       # Apply shear transformations.\n",
    "    zoom_range=0.2,        # Randomly zoom in/out.\n",
    "    horizontal_flip=True,  # Randomly flip images horizontally.\n",
    "    vertical_flip=False,   # Do not flip vertically (usually not relevant for open/closed eyes).\n",
    "    fill_mode='nearest'    # Fill empty pixels using the nearest-neighbor strategy.\n",
    ")\n",
    "\n",
    "# Apply data augmentation to your dataset (assuming you already have data and labels).\n",
    "augmented_data = []\n",
    "augmented_labels = []\n",
    "batch_size = 32  # Adjust as needed.\n",
    "\n",
    "for batch in datagen.flow(data, labels, batch_size=batch_size):\n",
    "    augmented_data.extend(batch[0])\n",
    "    augmented_labels.extend(batch[1])\n",
    "    \n",
    "    if len(augmented_data) >= len(data):\n",
    "        break\n",
    "\n",
    "# Convert the augmented data and labels to NumPy arrays.\n",
    "augmented_data = np.array(augmented_data)\n",
    "augmented_labels = np.array(augmented_labels)"
   ]
  },
  {
   "cell_type": "code",
   "execution_count": null,
   "metadata": {},
   "outputs": [],
   "source": [
    "# Compile the model.\n",
    "input_shape = (224, 224, 3)  # Adjust this to your image size\n",
    "model = build_drowsiness_detection_model(input_shape)\n",
    "model.compile(optimizer=Adam(lr=0.0001), loss='binary_crossentropy', metrics=['accuracy'])\n",
    "\n",
    "# Train the model using your training data.\n",
    "model.fit(train_data, train_labels, epochs=10, batch_size=32, validation_data=(test_data, test_labels))\n",
    "\n",
    "# Evaluate the model on the testing data.\n",
    "accuracy, precision = model.evaluate(test_data, test_labels)\n",
    "\n",
    "# Save the model for future use.\n",
    "model.save('drowsiness_detection_model.h5')"
   ]
  }
 ],
 "metadata": {
  "kernelspec": {
   "display_name": "Python 3",
   "language": "python",
   "name": "python3"
  },
  "language_info": {
   "codemirror_mode": {
    "name": "ipython",
    "version": 3
   },
   "file_extension": ".py",
   "mimetype": "text/x-python",
   "name": "python",
   "nbconvert_exporter": "python",
   "pygments_lexer": "ipython3",
   "version": "3.11.4"
  },
  "orig_nbformat": 4
 },
 "nbformat": 4,
 "nbformat_minor": 2
}
