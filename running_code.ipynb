{
 "cells": [
  {
   "cell_type": "code",
   "execution_count": 1,
   "metadata": {},
   "outputs": [],
   "source": [
    "import os\n",
    "import cv2\n",
    "import numpy as np\n",
    "from sklearn.model_selection import train_test_split\n",
    "from sklearn.metrics import accuracy_score, precision_score, f1_score\n",
    "from keras import layers, models, optimizers\n",
    "from keras.applications import VGG19"
   ]
  },
  {
   "cell_type": "code",
   "execution_count": 22,
   "metadata": {},
   "outputs": [],
   "source": [
    "# Function to load and preprocess images\n",
    "def load_and_preprocess_images(folder_path, label):\n",
    "    images = []\n",
    "    labels = []\n",
    "    for filename in os.listdir(folder_path):\n",
    "        if filename.endswith(\".jpg\"):\n",
    "            image_path = os.path.join(folder_path, filename)\n",
    "            image = cv2.imread(image_path)\n",
    "            if image is not None:\n",
    "                # Resize the image to the target size (adjust as needed)\n",
    "                image = cv2.resize(image, (224, 224))\n",
    "                images.append(image)\n",
    "                labels.append(label)\n",
    "    return images, labels\n"
   ]
  },
  {
   "cell_type": "code",
   "execution_count": 23,
   "metadata": {},
   "outputs": [],
   "source": [
    "# Path to the \"train\" directory\n",
    "dataset_dir = \"train\""
   ]
  },
  {
   "cell_type": "code",
   "execution_count": 24,
   "metadata": {},
   "outputs": [
    {
     "name": "stdout",
     "output_type": "stream",
     "text": [
      "Number of samples in 'Open' class: 726\n",
      "Number of samples in 'Closed' class: 726\n",
      "Total number of samples: 1452\n"
     ]
    }
   ],
   "source": [
    "\n",
    "\n",
    "# Load and preprocess images from \"Open\" and \"Closed\" folders\n",
    "open_folder = os.path.join(dataset_dir, \"Open\")\n",
    "closed_folder = os.path.join(dataset_dir, \"Closed\")\n",
    "\n",
    "if not os.path.exists(open_folder) or not os.path.exists(closed_folder):\n",
    "    print(\"Error: 'Open' or 'Closed' folders not found.\")\n",
    "    exit()\n",
    "\n",
    "open_eye_data, open_eye_labels = load_and_preprocess_images(open_folder, label=1)\n",
    "closed_eye_data, closed_eye_labels = load_and_preprocess_images(closed_folder, label=0)\n",
    "\n",
    "# Combine data and labels\n",
    "data = np.vstack((open_eye_data, closed_eye_data))\n",
    "labels = np.concatenate((open_eye_labels, closed_eye_labels))\n",
    "\n",
    "# Print debug information\n",
    "print(\"Number of samples in 'Open' class:\", len(open_eye_data))\n",
    "print(\"Number of samples in 'Closed' class:\", len(closed_eye_data))\n",
    "print(\"Total number of samples:\", len(data))\n",
    "\n",
    "# Split the data into training and testing sets\n",
    "if len(data) >= 2:\n",
    "    train_data, test_data, train_labels, test_labels = train_test_split(data, labels, test_size=0.2, random_state=42)\n",
    "else:\n",
    "    print(\"Error: Insufficient data for splitting. Ensure you have at least 2 samples.\")\n",
    "    # Handle the error or adjust the dataset accordingly\n",
    "    exit()\n",
    "\n",
    "# Preprocess the data for VGG-19\n",
    "if len(train_data) >= 1:\n",
    "    train_data = preprocess_input(train_data)\n",
    "    test_data = preprocess_input(test_data)\n",
    "else:\n",
    "    print(\"Error: Insufficient data for preprocessing. Ensure you have at least 1 sample.\")\n",
    "    # Handle the error or adjust the dataset accordingly\n",
    "    exit()"
   ]
  },
  {
   "cell_type": "code",
   "execution_count": 25,
   "metadata": {},
   "outputs": [
    {
     "name": "stdout",
     "output_type": "stream",
     "text": [
      "Epoch 1/10\n",
      "29/29 [==============================] - 1203s 41s/step - loss: 0.7654 - accuracy: 0.9235 - val_loss: 0.0611 - val_accuracy: 0.9785\n",
      "Epoch 2/10\n",
      "29/29 [==============================] - 1203s 42s/step - loss: 0.0313 - accuracy: 0.9892 - val_loss: 0.0296 - val_accuracy: 0.9957\n",
      "Epoch 3/10\n",
      "17/29 [================>.............] - ETA: 7:49 - loss: 0.0349 - accuracy: 0.9908"
     ]
    }
   ],
   "source": [
    "# Build the VGG-19 model\n",
    "vgg_model = VGG19(weights='imagenet', include_top=False, input_shape=(224, 224, 3))\n",
    "\n",
    "model = models.Sequential()\n",
    "model.add(vgg_model)\n",
    "model.add(layers.Flatten())\n",
    "model.add(layers.Dense(256, activation='relu'))\n",
    "model.add(layers.Dense(1, activation='sigmoid'))\n",
    "\n",
    "# Compile the model\n",
    "model.compile(optimizer=optimizers.Adam(learning_rate=0.0001), loss='binary_crossentropy', metrics=['accuracy'])\n",
    "\n",
    "# Train the model\n",
    "epochs = 10\n",
    "batch_size = 32\n",
    "history = model.fit(train_data, train_labels, epochs=epochs, batch_size=batch_size, validation_split=0.2)\n",
    "\n",
    "# Evaluate the model on the testing data\n",
    "test_predictions = model.predict(test_data)\n",
    "test_predictions_binary = (test_predictions > 0.5).astype(int)\n",
    "\n",
    "# Calculate metrics\n",
    "test_accuracy = accuracy_score(test_labels, test_predictions_binary)\n",
    "test_precision = precision_score(test_labels, test_predictions_binary)\n",
    "test_f1 = f1_score(test_labels, test_predictions_binary)\n",
    "\n",
    "print(f'Test Accuracy: {test_accuracy:.4f}')\n",
    "print(f'Test Precision: {test_precision:.4f}')\n",
    "print(f'Test F1 Score: {test_f1:.4f}')"
   ]
  }
 ],
 "metadata": {
  "kernelspec": {
   "display_name": "Python 3",
   "language": "python",
   "name": "python3"
  },
  "language_info": {
   "codemirror_mode": {
    "name": "ipython",
    "version": 3
   },
   "file_extension": ".py",
   "mimetype": "text/x-python",
   "name": "python",
   "nbconvert_exporter": "python",
   "pygments_lexer": "ipython3",
   "version": "3.11.4"
  }
 },
 "nbformat": 4,
 "nbformat_minor": 2
}
